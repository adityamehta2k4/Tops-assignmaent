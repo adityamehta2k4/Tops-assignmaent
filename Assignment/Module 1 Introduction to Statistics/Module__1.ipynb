{
  "nbformat": 4,
  "nbformat_minor": 0,
  "metadata": {
    "colab": {
      "provenance": []
    },
    "kernelspec": {
      "name": "python3",
      "display_name": "Python 3"
    },
    "language_info": {
      "name": "python"
    }
  },
  "cells": [
    {
      "cell_type": "markdown",
      "source": [
        "## **Module 1. Introduction to Statistics**"
      ],
      "metadata": {
        "id": "gXyLDhFGJjh_"
      }
    },
    {
      "cell_type": "code",
      "source": [
        "import numpy as np\n",
        "from scipy.stats import ttest_ind"
      ],
      "metadata": {
        "id": "Ad9oM7JqUF-A"
      },
      "execution_count": 32,
      "outputs": []
    },
    {
      "cell_type": "markdown",
      "source": [
        "**Question 1**"
      ],
      "metadata": {
        "id": "LfAzkyqORBNe"
      }
    },
    {
      "cell_type": "code",
      "source": [
        "girls = np.repeat(89, 50)\n",
        "boys = np.repeat(82, 120)\n",
        "\n",
        "t_stat, p_val = ttest_ind(girls, boys, equal_var=False)\n",
        "\n",
        "print(\"T-Statistic:\", t_stat)\n",
        "print(\"P-Value:\", p_val)\n",
        "\n",
        "if p_val < 0.05:\n",
        "    print(\"Reject Null Hypothesis – Significant difference.\")\n",
        "else:\n",
        "    print(\"Fail to Reject Null – No significant difference.\")"
      ],
      "metadata": {
        "colab": {
          "base_uri": "https://localhost:8080/"
        },
        "id": "1WR_EyhoTQe6",
        "outputId": "37a6ecc7-a96f-4313-d49f-594611fe4c3e"
      },
      "execution_count": 33,
      "outputs": [
        {
          "output_type": "stream",
          "name": "stdout",
          "text": [
            "T-Statistic: inf\n",
            "P-Value: 0.0\n",
            "Reject Null Hypothesis – Significant difference.\n"
          ]
        }
      ]
    },
    {
      "cell_type": "markdown",
      "source": [
        "**Question 2**"
      ],
      "metadata": {
        "id": "4lmy3fxFKlOm"
      }
    },
    {
      "cell_type": "code",
      "source": [
        "observed = np.array([[220, 230], [350, 640]])\n",
        "\n",
        "chi2_stat, p_value, dof, expected = stats.chi2_contingency(observed)\n",
        "\n",
        "print(f\"Chi-square statistic = {chi2_stat:.3f}, p-value = {p_value:.5f}\")\n",
        "\n",
        "if p_value < 0.05:\n",
        "    print(\"Reject H0: Smoking is associated with cancer.\")\n",
        "else:\n",
        "    print(\"Fail to reject H0: No association between smoking and cancer.\")"
      ],
      "metadata": {
        "colab": {
          "base_uri": "https://localhost:8080/"
        },
        "id": "-laYbO0-RMjG",
        "outputId": "ec857055-dc71-49d0-e641-782d77773775"
      },
      "execution_count": 34,
      "outputs": [
        {
          "output_type": "stream",
          "name": "stdout",
          "text": [
            "Chi-square statistic = 23.138, p-value = 0.00000\n",
            "Reject H0: Smoking is associated with cancer.\n"
          ]
        }
      ]
    }
  ]
}