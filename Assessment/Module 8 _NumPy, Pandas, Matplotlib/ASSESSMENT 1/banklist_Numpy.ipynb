{
  "nbformat": 4,
  "nbformat_minor": 0,
  "metadata": {
    "colab": {
      "provenance": []
    },
    "kernelspec": {
      "name": "python3",
      "display_name": "Python 3"
    },
    "language_info": {
      "name": "python"
    }
  },
  "cells": [
    {
      "cell_type": "code",
      "source": [
        "import csv\n",
        "import numpy as np"
      ],
      "metadata": {
        "id": "DENpHpewz7aS"
      },
      "execution_count": 36,
      "outputs": []
    },
    {
      "cell_type": "code",
      "source": [
        "filename = 'banklist (2).csv'"
      ],
      "metadata": {
        "id": "md6d_vga5HvS"
      },
      "execution_count": 37,
      "outputs": []
    },
    {
      "cell_type": "code",
      "source": [
        "cleaned_data = []\n",
        "with open(filename, 'r', encoding='utf-8') as f:\n",
        "    reader = csv.reader(f)\n",
        "    for row in reader:\n",
        "        if len(row) == 0 or len(row) != 7:\n",
        "            continue\n",
        "        cleaned_data.append(row)"
      ],
      "metadata": {
        "id": "aqNm3cdW5JP0"
      },
      "execution_count": 49,
      "outputs": []
    },
    {
      "cell_type": "code",
      "source": [
        "header = cleaned_data[0]\n",
        "data_rows = cleaned_data[1:]"
      ],
      "metadata": {
        "id": "p_dhLoYl5SFI"
      },
      "execution_count": 50,
      "outputs": []
    },
    {
      "cell_type": "code",
      "source": [
        "data = np.array(data_rows, dtype=str)"
      ],
      "metadata": {
        "id": "n6WjuGHk5ThZ"
      },
      "execution_count": 51,
      "outputs": []
    },
    {
      "cell_type": "code",
      "source": [
        "print(\"HEADER:\", header)\n",
        "print(\"\\n First 5 rows of data:\")\n",
        "print(data[:5])"
      ],
      "metadata": {
        "colab": {
          "base_uri": "https://localhost:8080/"
        },
        "id": "v1yoNDAU5XwM",
        "outputId": "a89e688b-2c54-4cb8-bbfd-cdae5aca77b8"
      },
      "execution_count": 53,
      "outputs": [
        {
          "output_type": "stream",
          "name": "stdout",
          "text": [
            "HEADER: ['Bank Name', 'City', 'ST', 'CERT', 'Acquiring Institution', 'Closing Date', 'Updated Date']\n",
            "\n",
            " First 5 rows of data:\n",
            "[['Fayette County Bank' 'Saint Elmo' 'IL' '1802'\n",
            "  'United Fidelity Bank, fsb' '26-May-17' '26-Jul-17']\n",
            " ['Guaranty Bank, (d/b/a BestBank in Georgia & Michigan) ' 'Milwaukee'\n",
            "  'WI' '30003' 'First-Citizens Bank & Trust Company' '5-May-17'\n",
            "  '26-Jul-17']\n",
            " ['First NBC Bank' 'New Orleans' 'LA' '58302' 'Whitney Bank' '28-Apr-17'\n",
            "  '26-Jul-17']\n",
            " ['Proficio Bank' 'Cottonwood Heights' 'UT' '35495' 'Cache Valley Bank'\n",
            "  '3-Mar-17' '18-May-17']\n",
            " ['Seaway Bank and Trust Company' 'Chicago' 'IL' '19328'\n",
            "  'State Bank of Texas' '27-Jan-17' '18-May-17']]\n"
          ]
        }
      ]
    },
    {
      "cell_type": "code",
      "source": [
        "st_idx = header.index('ST')\n",
        "acq_idx = header.index('Acquiring Institution')\n",
        "city_idx = header.index('City')"
      ],
      "metadata": {
        "id": "bU0TRK5C5lpc"
      },
      "execution_count": 43,
      "outputs": []
    },
    {
      "cell_type": "code",
      "source": [
        "print(\"Column names:\")\n",
        "print(header)"
      ],
      "metadata": {
        "colab": {
          "base_uri": "https://localhost:8080/"
        },
        "id": "Hjyh--uI5pLu",
        "outputId": "998bbef2-e0bd-4a88-f9b6-3c0c1591a92a"
      },
      "execution_count": 54,
      "outputs": [
        {
          "output_type": "stream",
          "name": "stdout",
          "text": [
            "Column names:\n",
            "['Bank Name', 'City', 'ST', 'CERT', 'Acquiring Institution', 'Closing Date', 'Updated Date']\n"
          ]
        }
      ]
    },
    {
      "cell_type": "code",
      "source": [
        "states = data[:, st_idx]\n",
        "unique_states = np.unique(states)\n",
        "print(\"Total unique states:\", len(unique_states))"
      ],
      "metadata": {
        "colab": {
          "base_uri": "https://localhost:8080/"
        },
        "id": "1e7Uxfrt6dQK",
        "outputId": "fdedec4b-2289-4176-dfe1-f0e2df925f03"
      },
      "execution_count": 55,
      "outputs": [
        {
          "output_type": "stream",
          "name": "stdout",
          "text": [
            "Total unique states: 44\n"
          ]
        }
      ]
    },
    {
      "cell_type": "code",
      "source": [
        "print(\"All states:\")\n",
        "print(unique_states)"
      ],
      "metadata": {
        "colab": {
          "base_uri": "https://localhost:8080/"
        },
        "id": "rzh7dLfY6hEf",
        "outputId": "f89114c8-4de6-4baa-cd57-3a2eefd01ce9"
      },
      "execution_count": 56,
      "outputs": [
        {
          "output_type": "stream",
          "name": "stdout",
          "text": [
            "All states:\n",
            "['AL' 'AR' 'AZ' 'CA' 'CO' 'CT' 'FL' 'GA' 'HI' 'IA' 'ID' 'IL' 'IN' 'KS'\n",
            " 'KY' 'LA' 'MA' 'MD' 'MI' 'MN' 'MO' 'MS' 'NC' 'NE' 'NH' 'NJ' 'NM' 'NV'\n",
            " 'NY' 'OH' 'OK' 'OR' 'PA' 'PR' 'SC' 'SD' 'TN' 'TX' 'UT' 'VA' 'WA' 'WI'\n",
            " 'WV' 'WY']\n"
          ]
        }
      ]
    },
    {
      "cell_type": "code",
      "source": [
        "state_counts = np.unique(states, return_counts=True)\n",
        "sorted_indices = np.argsort(-state_counts[1])\n",
        "print(\"Top 5 states with most failed banks:\")\n",
        "for i in sorted_indices[:5]:\n",
        "    print(f\"{state_counts[0][i]}: {state_counts[1][i]}\")\n"
      ],
      "metadata": {
        "colab": {
          "base_uri": "https://localhost:8080/"
        },
        "id": "IDxne-rV6mdf",
        "outputId": "c07bf990-54f0-4c76-8944-90d495bb9446"
      },
      "execution_count": 58,
      "outputs": [
        {
          "output_type": "stream",
          "name": "stdout",
          "text": [
            "Top 5 states with most failed banks:\n",
            "GA: 93\n",
            "FL: 75\n",
            "IL: 68\n",
            "CA: 41\n",
            "MN: 23\n"
          ]
        }
      ]
    },
    {
      "cell_type": "code",
      "source": [
        "acquirers = data[:, acq_idx]\n",
        "acq_counts = np.unique(acquirers, return_counts=True)\n",
        "sorted_acq = np.argsort(-acq_counts[1])\n",
        "print(\"Top 5 acquiring institutions:\")\n",
        "for i in sorted_acq[:5]:\n",
        "    print(f\"{acq_counts[0][i]}: {acq_counts[1][i]}\")\n"
      ],
      "metadata": {
        "colab": {
          "base_uri": "https://localhost:8080/"
        },
        "id": "SyFyPJzL6qhU",
        "outputId": "803c2632-fc81-4829-e832-98d3fb692788"
      },
      "execution_count": 59,
      "outputs": [
        {
          "output_type": "stream",
          "name": "stdout",
          "text": [
            "Top 5 acquiring institutions:\n",
            "No Acquirer: 31\n",
            "State Bank and Trust Company: 12\n",
            "First-Citizens Bank & Trust Company: 11\n",
            "Ameris Bank: 10\n",
            "U.S. Bank N.A.: 9\n"
          ]
        }
      ]
    },
    {
      "cell_type": "code",
      "source": [
        "sbt_mask = acquirers == 'State Bank of Texas'\n",
        "sbt_total = np.sum(sbt_mask)\n",
        "sbt_tx = np.sum(data[sbt_mask][:, st_idx] == 'TX')\n",
        "print(f\"State Bank of Texas acquired {sbt_total} banks. {sbt_tx} were in Texas.\")\n"
      ],
      "metadata": {
        "colab": {
          "base_uri": "https://localhost:8080/"
        },
        "id": "HXJbk6wI7iWf",
        "outputId": "3315f00e-3285-4995-c961-15ce5e96307b"
      },
      "execution_count": 60,
      "outputs": [
        {
          "output_type": "stream",
          "name": "stdout",
          "text": [
            "State Bank of Texas acquired 3 banks. 1 were in Texas.\n"
          ]
        }
      ]
    },
    {
      "cell_type": "code",
      "source": [
        "ca_mask = states == 'CA'\n",
        "ca_cities = data[ca_mask][:, city_idx]\n",
        "city_counts = np.unique(ca_cities, return_counts=True)\n",
        "most_common_city = city_counts[0][np.argmax(city_counts[1])]\n",
        "print(\"Most common city in California for a bank to fail in:\", most_common_city)\n"
      ],
      "metadata": {
        "colab": {
          "base_uri": "https://localhost:8080/"
        },
        "id": "3F7UWnaZ7mR2",
        "outputId": "428a17aa-78bd-40ec-b3b8-da6417185c7d"
      },
      "execution_count": 63,
      "outputs": [
        {
          "output_type": "stream",
          "name": "stdout",
          "text": [
            "Most common city in California for a bank to fail in: Los Angeles\n"
          ]
        }
      ]
    }
  ]
}